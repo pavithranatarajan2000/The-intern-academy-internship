{
  "nbformat": 4,
  "nbformat_minor": 0,
  "metadata": {
    "colab": {
      "name": "task3.ipynb",
      "provenance": [],
      "authorship_tag": "ABX9TyM9bYVd1KPKCxVYrl9D2sQs",
      "include_colab_link": true
    },
    "kernelspec": {
      "name": "python3",
      "display_name": "Python 3"
    },
    "language_info": {
      "name": "python"
    }
  },
  "cells": [
    {
      "cell_type": "markdown",
      "metadata": {
        "id": "view-in-github",
        "colab_type": "text"
      },
      "source": [
        "<a href=\"https://colab.research.google.com/github/pavithranatarajan2000/The-intern-academy-internship/blob/main/task3.ipynb\" target=\"_parent\"><img src=\"https://colab.research.google.com/assets/colab-badge.svg\" alt=\"Open In Colab\"/></a>"
      ]
    },
    {
      "cell_type": "markdown",
      "metadata": {
        "id": "dYy_9UXnElB0"
      },
      "source": [
        "TASK3 - CHATBOT & WEBSITE BLOCKER\n",
        "\n",
        "By Pavithra N\n",
        "\n"
      ]
    },
    {
      "cell_type": "code",
      "metadata": {
        "colab": {
          "base_uri": "https://localhost:8080/"
        },
        "id": "Lghbj4N1EwYi",
        "outputId": "77d45d5e-1a2c-43ef-aec2-3dcc689a3c3c"
      },
      "source": [
        "!pip install chatterbot\n"
      ],
      "execution_count": null,
      "outputs": [
        {
          "output_type": "stream",
          "text": [
            "Requirement already satisfied: chatterbot in /usr/local/lib/python3.7/dist-packages (1.0.8)\n",
            "Requirement already satisfied: python-dateutil<2.9,>=2.8 in /usr/local/lib/python3.7/dist-packages (from chatterbot) (2.8.1)\n",
            "Requirement already satisfied: mathparse<0.2,>=0.1 in /usr/local/lib/python3.7/dist-packages (from chatterbot) (0.1.2)\n",
            "Requirement already satisfied: sqlalchemy<1.4,>=1.3 in /usr/local/lib/python3.7/dist-packages (from chatterbot) (1.3.24)\n",
            "Requirement already satisfied: pytz in /usr/local/lib/python3.7/dist-packages (from chatterbot) (2018.9)\n",
            "Requirement already satisfied: six>=1.5 in /usr/local/lib/python3.7/dist-packages (from python-dateutil<2.9,>=2.8->chatterbot) (1.15.0)\n"
          ],
          "name": "stdout"
        }
      ]
    },
    {
      "cell_type": "code",
      "metadata": {
        "colab": {
          "base_uri": "https://localhost:8080/"
        },
        "id": "60m0h9q2H0qD",
        "outputId": "52043889-23ed-447b-c41f-393e8fa00217"
      },
      "source": [
        "!pip install chatterbot_corpus\n"
      ],
      "execution_count": null,
      "outputs": [
        {
          "output_type": "stream",
          "text": [
            "Collecting chatterbot_corpus\n",
            "  Downloading chatterbot_corpus-1.2.0-py2.py3-none-any.whl (117 kB)\n",
            "\u001b[?25l\r\u001b[K     |██▉                             | 10 kB 25.5 MB/s eta 0:00:01\r\u001b[K     |█████▋                          | 20 kB 27.7 MB/s eta 0:00:01\r\u001b[K     |████████▍                       | 30 kB 17.6 MB/s eta 0:00:01\r\u001b[K     |███████████▏                    | 40 kB 15.4 MB/s eta 0:00:01\r\u001b[K     |██████████████                  | 51 kB 6.6 MB/s eta 0:00:01\r\u001b[K     |████████████████▊               | 61 kB 7.0 MB/s eta 0:00:01\r\u001b[K     |███████████████████▋            | 71 kB 7.4 MB/s eta 0:00:01\r\u001b[K     |██████████████████████▍         | 81 kB 8.3 MB/s eta 0:00:01\r\u001b[K     |█████████████████████████▏      | 92 kB 8.4 MB/s eta 0:00:01\r\u001b[K     |████████████████████████████    | 102 kB 6.5 MB/s eta 0:00:01\r\u001b[K     |██████████████████████████████▊ | 112 kB 6.5 MB/s eta 0:00:01\r\u001b[K     |████████████████████████████████| 117 kB 6.5 MB/s \n",
            "\u001b[?25hRequirement already satisfied: PyYAML<4.0,>=3.12 in /usr/local/lib/python3.7/dist-packages (from chatterbot_corpus) (3.13)\n",
            "Installing collected packages: chatterbot-corpus\n",
            "Successfully installed chatterbot-corpus-1.2.0\n"
          ],
          "name": "stdout"
        }
      ]
    },
    {
      "cell_type": "code",
      "metadata": {
        "id": "0J-Ae6yTIR9u"
      },
      "source": [
        "# Importing chatterbot\n",
        "from chatterbot import ChatBot\n"
      ],
      "execution_count": null,
      "outputs": []
    },
    {
      "cell_type": "code",
      "metadata": {
        "id": "QvRzYxVAIY0A"
      },
      "source": [
        "# Create object of ChatBot class\n",
        "bot = ChatBot('Buddy')"
      ],
      "execution_count": null,
      "outputs": []
    },
    {
      "cell_type": "code",
      "metadata": {
        "id": "bYS8zgmeIeLA"
      },
      "source": [
        "bot = ChatBot(\n",
        "    'Buddy',\n",
        "    storage_adapter='chatterbot.storage.SQLStorageAdapter',\n",
        "    database_uri='sqlite:///database.sqlite3'\n",
        ")"
      ],
      "execution_count": null,
      "outputs": []
    },
    {
      "cell_type": "code",
      "metadata": {
        "id": "umOO1Sh5Il7_"
      },
      "source": [
        "# Create object of ChatBot class with Logic Adapter\n",
        "bot = ChatBot(\n",
        "    'Buddy',  \n",
        "    logic_adapters=[\n",
        "        'chatterbot.logic.BestMatch',\n",
        "        'chatterbot.logic.TimeLogicAdapter'],\n",
        ")"
      ],
      "execution_count": null,
      "outputs": []
    },
    {
      "cell_type": "code",
      "metadata": {
        "colab": {
          "base_uri": "https://localhost:8080/"
        },
        "id": "UCSTWYw-It6A",
        "outputId": "092ac7d7-2718-43f8-9cdf-757923fd3f42"
      },
      "source": [
        "from chatterbot.trainers import ListTrainer\n",
        "\n",
        "trainer = ListTrainer(bot)\n",
        "\n",
        "trainer.train([\n",
        "'Hi',\n",
        "'Hello How are you?',\n",
        "'I am good',\n",
        "'Great! How can I help you?',\n",
        "'I need your assistance regarding my order',\n",
        "'Please, Provide me with your order id',\n",
        "'I have a complaint.',\n",
        "'Please elaborate, your concern',\n",
        "'How long it will take to receive an order ?',\n",
        "'An order takes 3-5 Business days to get delivered.',\n",
        "'Okay Thanks',\n",
        "'No Problem! Have a Good Day!'\n",
        "])"
      ],
      "execution_count": null,
      "outputs": [
        {
          "output_type": "stream",
          "text": [
            "List Trainer: [####################] 100%\n"
          ],
          "name": "stdout"
        }
      ]
    },
    {
      "cell_type": "code",
      "metadata": {
        "colab": {
          "base_uri": "https://localhost:8080/"
        },
        "id": "pdpHPnG5I1Yu",
        "outputId": "e671986b-35df-4d55-ce4a-a9b1863cebd5"
      },
      "source": [
        "# Get a response to the input text 'I would like to book a flight.'\n",
        "response = bot.get_response('Hi')\n",
        "\n",
        "print(\"Bot Response:\", response)"
      ],
      "execution_count": null,
      "outputs": [
        {
          "output_type": "stream",
          "text": [
            "Bot Response: Hello How are you?\n"
          ],
          "name": "stdout"
        }
      ]
    },
    {
      "cell_type": "code",
      "metadata": {
        "id": "ST-09yW8I95V"
      },
      "source": [
        ""
      ],
      "execution_count": null,
      "outputs": []
    },
    {
      "cell_type": "code",
      "metadata": {
        "id": "1fqJPkmmJuXS"
      },
      "source": [
        ""
      ],
      "execution_count": 9,
      "outputs": []
    },
    {
      "cell_type": "code",
      "metadata": {
        "id": "pjiIsgwBNJoq"
      },
      "source": [
        ""
      ],
      "execution_count": null,
      "outputs": []
    }
  ]
}